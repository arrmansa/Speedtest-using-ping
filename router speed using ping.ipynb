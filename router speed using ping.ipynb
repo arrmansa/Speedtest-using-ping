{
 "cells": [
  {
   "cell_type": "markdown",
   "id": "03efb1c1",
   "metadata": {},
   "source": [
    "# Easy"
   ]
  },
  {
   "cell_type": "code",
   "execution_count": 1,
   "id": "3e589b43",
   "metadata": {},
   "outputs": [
    {
     "name": "stdout",
     "output_type": "stream",
     "text": [
      "22.89 Megabytes/sec\n"
     ]
    }
   ],
   "source": [
    "import subprocess\n",
    "hostname = \"192.168.29.1\"\n",
    "speeds = []\n",
    "for size in [65500,64000,60000,6550]:\n",
    "    for i in range(10):\n",
    "        response = subprocess.getoutput(f\"ping {hostname} -n 1 -w 500 -l {size}\")\n",
    "        try:\n",
    "            time_string = [text for text in response.split(\" \") if 'time=' in text][0].split(\"=\")[1]\n",
    "            speeds.append(2*size*1000/(int(time_string[:-2])*1024*1024))\n",
    "        except:\n",
    "            pass\n",
    "print(round(max(speeds),2), \"Megabytes/sec\")"
   ]
  },
  {
   "cell_type": "markdown",
   "id": "90938068",
   "metadata": {},
   "source": [
    "# Complex"
   ]
  },
  {
   "cell_type": "code",
   "execution_count": 2,
   "id": "d74c5705",
   "metadata": {},
   "outputs": [],
   "source": [
    "import subprocess\n",
    "import time\n",
    "from multiprocessing import Pool\n",
    "import concurrent.futures"
   ]
  },
  {
   "cell_type": "code",
   "execution_count": 3,
   "id": "4447b6e6",
   "metadata": {},
   "outputs": [],
   "source": [
    "def n_concurrent_ping_time(n, workers, method = 'multiprocessing', hostname = \"192.168.29.1\", size = 65500):\n",
    "    if n == 1:\n",
    "        response = subprocess.getoutput(f\"ping {hostname} -n 1 -w 500 -l {size}\")\n",
    "        try:\n",
    "            time_string = [text for text in response.split(\" \") if 'time=' in text][0].split(\"=\")[1]\n",
    "            return int(time_string[:-2])/1000\n",
    "        except:\n",
    "            return -1\n",
    "    \n",
    "    input_list = n*[f\"ping {hostname} -n 1 -w 500 -l {size}\"]\n",
    "    \n",
    "    if method == 'multiprocessing':\n",
    "        with Pool(workers) as p:\n",
    "            results = p.map(len, input_list)\n",
    "            t_start = time.perf_counter()\n",
    "            results = p.map(subprocess.getoutput, input_list)\n",
    "            t_stop = time.perf_counter()\n",
    "    elif method == 'threads':\n",
    "        with concurrent.futures.ThreadPoolExecutor(max_workers=workers) as e:\n",
    "            results = list(e.map(len, input_list))\n",
    "            t_start = time.perf_counter()\n",
    "            results = list(e.map(subprocess.getoutput, input_list))\n",
    "            t_stop = time.perf_counter()\n",
    "    else:\n",
    "        raise \"Unknown method\"\n",
    "        \n",
    "    time_taken = t_stop - t_start\n",
    "    for response in results:\n",
    "        try:\n",
    "            response = subprocess.getoutput(f\"ping {hostname} -n 1 -w 500 -l {size}\")\n",
    "            time_string = [text for text in response.split(\" \") if 'time=' in text][0].split(\"=\")[1]\n",
    "            ping_time = int(time_string[:-2])\n",
    "        except:\n",
    "            return -1\n",
    "    return time_taken"
   ]
  },
  {
   "cell_type": "code",
   "execution_count": 4,
   "id": "4aa31f31",
   "metadata": {},
   "outputs": [
    {
     "name": "stdout",
     "output_type": "stream",
     "text": [
      "20.82 Megabytes/sec\n"
     ]
    }
   ],
   "source": [
    "speeds = []\n",
    "size = 65500\n",
    "for n in [1,2,3,4,8,10]:\n",
    "    for workers in [1,2,3,4]:\n",
    "        for method in ['multiprocessing', 'threads']:\n",
    "            #print(n,workers,method)\n",
    "            total_time = n_concurrent_ping_time(n,workers,method,\"192.168.29.1\",size)\n",
    "            #print(round((2*n*size)/(total_time*1024*1024),2), \"Megabytes/sec\")\n",
    "            speeds.append(round((2*n*size)/(total_time*1024*1024),2))\n",
    "            time.sleep(0.2)\n",
    "print(max(speeds), \"Megabytes/sec\")"
   ]
  }
 ],
 "metadata": {
  "kernelspec": {
   "display_name": "Python 3 (ipykernel)",
   "language": "python",
   "name": "python3"
  },
  "language_info": {
   "codemirror_mode": {
    "name": "ipython",
    "version": 3
   },
   "file_extension": ".py",
   "mimetype": "text/x-python",
   "name": "python",
   "nbconvert_exporter": "python",
   "pygments_lexer": "ipython3",
   "version": "3.7.10"
  }
 },
 "nbformat": 4,
 "nbformat_minor": 5
}
